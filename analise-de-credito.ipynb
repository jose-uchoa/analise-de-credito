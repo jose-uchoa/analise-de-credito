{
 "cells": [
  {
   "cell_type": "markdown",
   "id": "42ec456e",
   "metadata": {
    "papermill": {
     "duration": 0.045336,
     "end_time": "2022-03-01T02:38:32.012228",
     "exception": false,
     "start_time": "2022-03-01T02:38:31.966892",
     "status": "completed"
    },
    "tags": []
   },
   "source": [
    "# **1.** **Introdução ao problema**\n",
    "\n",
    "Analisaremos um conjunto de dados de uma instituição financeira seguindo as regras estabelecidas pela **LGPD**. Queremos estudar as características de um cliente inadimplente, isto é, em quais circuntâncias este cliente deixa de honrar com suas dívidas quando comparado a clientes adimplentes.\n",
    "\n",
    "**Etapas:**\n",
    "\n",
    "1. Explorar os dados de crédito dos clientes da instituição financeira;\n",
    "1. Estamos interessados em explicar a coluna chamada de default, que indica se um cliente é *adimplente (default = 0)* ou *inadimplente (default = 1)*;\n",
    "1. O objetivo é entender porque um cliente deixa de honrar com suas dívidas baseado no comportamento de alguns atributos contidos na base de dados.\n",
    "1. Finalmente, ajudar a instituição financeira com as análises e identificar o perfil destes clientes \"não-default\" com intuito de desenvolver soluções para evitar prejuízos."
   ]
  },
  {
   "cell_type": "markdown",
   "id": "0d294a3a",
   "metadata": {
    "papermill": {
     "duration": 0.041846,
     "end_time": "2022-03-01T02:38:32.096292",
     "exception": false,
     "start_time": "2022-03-01T02:38:32.054446",
     "status": "completed"
    },
    "tags": []
   },
   "source": [
    "# **2.** **Importando bibliotecas**\n",
    "\n",
    "Vamos utilizar as seguintes bibliotecas:\n",
    "\n",
    "* O **Pandas** para ler e manipular os dados;\n",
    "* O **Seaborn** e o **Matplotlib** para criação e visualização dos gráficos."
   ]
  },
  {
   "cell_type": "code",
   "execution_count": 1,
   "id": "4811f074",
   "metadata": {
    "execution": {
     "iopub.execute_input": "2022-03-01T02:38:32.187689Z",
     "iopub.status.busy": "2022-03-01T02:38:32.185728Z",
     "iopub.status.idle": "2022-03-01T02:38:33.406897Z",
     "shell.execute_reply": "2022-03-01T02:38:33.407440Z",
     "shell.execute_reply.started": "2022-03-01T02:37:56.497545Z"
    },
    "papermill": {
     "duration": 1.268813,
     "end_time": "2022-03-01T02:38:33.407754",
     "exception": false,
     "start_time": "2022-03-01T02:38:32.138941",
     "status": "completed"
    },
    "tags": []
   },
   "outputs": [],
   "source": [
    "import pandas as pd\n",
    "import seaborn as sns\n",
    "import matplotlib.pyplot as plt"
   ]
  },
  {
   "cell_type": "markdown",
   "id": "267f5145",
   "metadata": {
    "papermill": {
     "duration": 0.040298,
     "end_time": "2022-03-01T02:38:33.489288",
     "exception": false,
     "start_time": "2022-03-01T02:38:33.448990",
     "status": "completed"
    },
    "tags": []
   },
   "source": [
    "# **3.** **Carregamento e geração de dados**"
   ]
  },
  {
   "cell_type": "markdown",
   "id": "2c017f69",
   "metadata": {
    "papermill": {
     "duration": 0.03874,
     "end_time": "2022-03-01T02:38:33.569295",
     "exception": false,
     "start_time": "2022-03-01T02:38:33.530555",
     "status": "completed"
    },
    "tags": []
   },
   "source": [
    "Vamos começar carregando nosso conjunto de dados que será analisado."
   ]
  },
  {
   "cell_type": "code",
   "execution_count": 2,
   "id": "f53d318a",
   "metadata": {
    "execution": {
     "iopub.execute_input": "2022-03-01T02:38:33.648901Z",
     "iopub.status.busy": "2022-03-01T02:38:33.648040Z",
     "iopub.status.idle": "2022-03-01T02:38:33.731875Z",
     "shell.execute_reply": "2022-03-01T02:38:33.732629Z",
     "shell.execute_reply.started": "2022-03-01T02:37:56.508474Z"
    },
    "papermill": {
     "duration": 0.124679,
     "end_time": "2022-03-01T02:38:33.732991",
     "exception": false,
     "start_time": "2022-03-01T02:38:33.608312",
     "status": "completed"
    },
    "tags": []
   },
   "outputs": [
    {
     "data": {
      "text/html": [
       "<div>\n",
       "<style scoped>\n",
       "    .dataframe tbody tr th:only-of-type {\n",
       "        vertical-align: middle;\n",
       "    }\n",
       "\n",
       "    .dataframe tbody tr th {\n",
       "        vertical-align: top;\n",
       "    }\n",
       "\n",
       "    .dataframe thead th {\n",
       "        text-align: right;\n",
       "    }\n",
       "</style>\n",
       "<table border=\"1\" class=\"dataframe\">\n",
       "  <thead>\n",
       "    <tr style=\"text-align: right;\">\n",
       "      <th></th>\n",
       "      <th>id</th>\n",
       "      <th>default</th>\n",
       "      <th>idade</th>\n",
       "      <th>sexo</th>\n",
       "      <th>dependentes</th>\n",
       "      <th>escolaridade</th>\n",
       "      <th>estado_civil</th>\n",
       "      <th>salario_anual</th>\n",
       "      <th>tipo_cartao</th>\n",
       "      <th>meses_de_relacionamento</th>\n",
       "      <th>qtd_produtos</th>\n",
       "      <th>iteracoes_12m</th>\n",
       "      <th>meses_inativo_12m</th>\n",
       "      <th>limite_credito</th>\n",
       "      <th>valor_transacoes_12m</th>\n",
       "      <th>qtd_transacoes_12m</th>\n",
       "    </tr>\n",
       "  </thead>\n",
       "  <tbody>\n",
       "    <tr>\n",
       "      <th>0</th>\n",
       "      <td>768805383</td>\n",
       "      <td>0</td>\n",
       "      <td>45</td>\n",
       "      <td>M</td>\n",
       "      <td>3</td>\n",
       "      <td>ensino medio</td>\n",
       "      <td>casado</td>\n",
       "      <td>$60K - $80K</td>\n",
       "      <td>blue</td>\n",
       "      <td>39</td>\n",
       "      <td>5</td>\n",
       "      <td>3</td>\n",
       "      <td>1</td>\n",
       "      <td>12.691,51</td>\n",
       "      <td>1.144,90</td>\n",
       "      <td>42</td>\n",
       "    </tr>\n",
       "    <tr>\n",
       "      <th>1</th>\n",
       "      <td>818770008</td>\n",
       "      <td>0</td>\n",
       "      <td>49</td>\n",
       "      <td>F</td>\n",
       "      <td>5</td>\n",
       "      <td>mestrado</td>\n",
       "      <td>solteiro</td>\n",
       "      <td>menos que $40K</td>\n",
       "      <td>blue</td>\n",
       "      <td>44</td>\n",
       "      <td>6</td>\n",
       "      <td>2</td>\n",
       "      <td>1</td>\n",
       "      <td>8.256,96</td>\n",
       "      <td>1.291,45</td>\n",
       "      <td>33</td>\n",
       "    </tr>\n",
       "    <tr>\n",
       "      <th>2</th>\n",
       "      <td>713982108</td>\n",
       "      <td>0</td>\n",
       "      <td>51</td>\n",
       "      <td>M</td>\n",
       "      <td>3</td>\n",
       "      <td>mestrado</td>\n",
       "      <td>casado</td>\n",
       "      <td>$80K - $120K</td>\n",
       "      <td>blue</td>\n",
       "      <td>36</td>\n",
       "      <td>4</td>\n",
       "      <td>0</td>\n",
       "      <td>1</td>\n",
       "      <td>3.418,56</td>\n",
       "      <td>1.887,72</td>\n",
       "      <td>20</td>\n",
       "    </tr>\n",
       "    <tr>\n",
       "      <th>3</th>\n",
       "      <td>769911858</td>\n",
       "      <td>0</td>\n",
       "      <td>40</td>\n",
       "      <td>F</td>\n",
       "      <td>4</td>\n",
       "      <td>ensino medio</td>\n",
       "      <td>NaN</td>\n",
       "      <td>menos que $40K</td>\n",
       "      <td>blue</td>\n",
       "      <td>34</td>\n",
       "      <td>3</td>\n",
       "      <td>1</td>\n",
       "      <td>4</td>\n",
       "      <td>3.313,03</td>\n",
       "      <td>1.171,56</td>\n",
       "      <td>20</td>\n",
       "    </tr>\n",
       "    <tr>\n",
       "      <th>4</th>\n",
       "      <td>709106358</td>\n",
       "      <td>0</td>\n",
       "      <td>40</td>\n",
       "      <td>M</td>\n",
       "      <td>3</td>\n",
       "      <td>sem educacao formal</td>\n",
       "      <td>casado</td>\n",
       "      <td>$60K - $80K</td>\n",
       "      <td>blue</td>\n",
       "      <td>21</td>\n",
       "      <td>5</td>\n",
       "      <td>0</td>\n",
       "      <td>1</td>\n",
       "      <td>4.716,22</td>\n",
       "      <td>816,08</td>\n",
       "      <td>28</td>\n",
       "    </tr>\n",
       "  </tbody>\n",
       "</table>\n",
       "</div>"
      ],
      "text/plain": [
       "          id  default  idade sexo  dependentes         escolaridade  \\\n",
       "0  768805383        0     45    M            3         ensino medio   \n",
       "1  818770008        0     49    F            5             mestrado   \n",
       "2  713982108        0     51    M            3             mestrado   \n",
       "3  769911858        0     40    F            4         ensino medio   \n",
       "4  709106358        0     40    M            3  sem educacao formal   \n",
       "\n",
       "  estado_civil   salario_anual tipo_cartao  meses_de_relacionamento  \\\n",
       "0       casado     $60K - $80K        blue                       39   \n",
       "1     solteiro  menos que $40K        blue                       44   \n",
       "2       casado    $80K - $120K        blue                       36   \n",
       "3          NaN  menos que $40K        blue                       34   \n",
       "4       casado     $60K - $80K        blue                       21   \n",
       "\n",
       "   qtd_produtos  iteracoes_12m  meses_inativo_12m limite_credito  \\\n",
       "0             5              3                  1      12.691,51   \n",
       "1             6              2                  1       8.256,96   \n",
       "2             4              0                  1       3.418,56   \n",
       "3             3              1                  4       3.313,03   \n",
       "4             5              0                  1       4.716,22   \n",
       "\n",
       "  valor_transacoes_12m  qtd_transacoes_12m  \n",
       "0             1.144,90                  42  \n",
       "1             1.291,45                  33  \n",
       "2             1.887,72                  20  \n",
       "3             1.171,56                  20  \n",
       "4               816,08                  28  "
      ]
     },
     "execution_count": 2,
     "metadata": {},
     "output_type": "execute_result"
    }
   ],
   "source": [
    "URL = '../input/dataset/dados_de_credito.csv'\n",
    "\n",
    "df = pd.read_csv(URL, na_values='na')\n",
    "\n",
    "df.head(n=5)"
   ]
  },
  {
   "cell_type": "markdown",
   "id": "ba5a7afe",
   "metadata": {
    "papermill": {
     "duration": 0.039318,
     "end_time": "2022-03-01T02:38:33.819945",
     "exception": false,
     "start_time": "2022-03-01T02:38:33.780627",
     "status": "completed"
    },
    "tags": []
   },
   "source": [
    "# **4.** **Exploração de dados**"
   ]
  },
  {
   "cell_type": "markdown",
   "id": "a135d292",
   "metadata": {
    "papermill": {
     "duration": 0.038222,
     "end_time": "2022-03-01T02:38:33.900490",
     "exception": false,
     "start_time": "2022-03-01T02:38:33.862268",
     "status": "completed"
    },
    "tags": []
   },
   "source": [
    "**4.1. Estrutura de dados**"
   ]
  },
  {
   "cell_type": "code",
   "execution_count": 3,
   "id": "e890de96",
   "metadata": {
    "execution": {
     "iopub.execute_input": "2022-03-01T02:38:33.984951Z",
     "iopub.status.busy": "2022-03-01T02:38:33.984115Z",
     "iopub.status.idle": "2022-03-01T02:38:34.002660Z",
     "shell.execute_reply": "2022-03-01T02:38:34.003355Z",
     "shell.execute_reply.started": "2022-03-01T02:37:56.578648Z"
    },
    "papermill": {
     "duration": 0.062301,
     "end_time": "2022-03-01T02:38:34.003539",
     "exception": false,
     "start_time": "2022-03-01T02:38:33.941238",
     "status": "completed"
    },
    "tags": []
   },
   "outputs": [
    {
     "name": "stdout",
     "output_type": "stream",
     "text": [
      "\u001b[1mInformações da base de dados:\u001b[0m\n",
      "\n",
      " • O conjunto de dados contém 10127 linhas e 16 colunas.\n",
      " • A proporcão de clientes \u001b[1madimplentes\u001b[0m é de 8500 que corresponde à 83.93% da base de dados.\n",
      " • A proporcão de clientes \u001b[1minadimplentes\u001b[0m é de 1627 que corresponde à 16.07% da base de dados.\n"
     ]
    }
   ],
   "source": [
    "linhas, colunas = df.shape\n",
    "print('\\033[1m' + 'Informações da base de dados:' + '\\033[0m')\n",
    "print(f'\\n • O conjunto de dados contém {linhas} linhas e {colunas} colunas.')\n",
    "\n",
    "qtd_total, _ = df.shape\n",
    "qtd_adimplentes, _ = df[df['default'] == 0].shape\n",
    "qtd_inadimplentes, _ = df[df['default'] == 1].shape\n",
    "\n",
    "print(' • A proporcão de clientes', '\\033[1m' + 'adimplentes' + '\\033[0m', f'é de {qtd_adimplentes} que corresponde à {round(100 * qtd_adimplentes / qtd_total, 2)}% da base de dados.')\n",
    "print(' • A proporcão de clientes', '\\033[1m' + 'inadimplentes' + '\\033[0m', f'é de {qtd_inadimplentes} que corresponde à {round(100 * qtd_inadimplentes / qtd_total, 2)}% da base de dados.')"
   ]
  },
  {
   "cell_type": "markdown",
   "id": "65c9c5e5",
   "metadata": {
    "papermill": {
     "duration": 0.042498,
     "end_time": "2022-03-01T02:38:34.088595",
     "exception": false,
     "start_time": "2022-03-01T02:38:34.046097",
     "status": "completed"
    },
    "tags": []
   },
   "source": [
    "**4.2. Analisando schema**"
   ]
  },
  {
   "cell_type": "code",
   "execution_count": 4,
   "id": "86bd441a",
   "metadata": {
    "execution": {
     "iopub.execute_input": "2022-03-01T02:38:34.179321Z",
     "iopub.status.busy": "2022-03-01T02:38:34.178187Z",
     "iopub.status.idle": "2022-03-01T02:38:34.182478Z",
     "shell.execute_reply": "2022-03-01T02:38:34.183478Z",
     "shell.execute_reply.started": "2022-03-01T02:37:56.594063Z"
    },
    "papermill": {
     "duration": 0.054848,
     "end_time": "2022-03-01T02:38:34.183690",
     "exception": false,
     "start_time": "2022-03-01T02:38:34.128842",
     "status": "completed"
    },
    "tags": []
   },
   "outputs": [
    {
     "data": {
      "text/plain": [
       "id                          int64\n",
       "default                     int64\n",
       "idade                       int64\n",
       "sexo                       object\n",
       "dependentes                 int64\n",
       "escolaridade               object\n",
       "estado_civil               object\n",
       "salario_anual              object\n",
       "tipo_cartao                object\n",
       "meses_de_relacionamento     int64\n",
       "qtd_produtos                int64\n",
       "iteracoes_12m               int64\n",
       "meses_inativo_12m           int64\n",
       "limite_credito             object\n",
       "valor_transacoes_12m       object\n",
       "qtd_transacoes_12m          int64\n",
       "dtype: object"
      ]
     },
     "execution_count": 4,
     "metadata": {},
     "output_type": "execute_result"
    }
   ],
   "source": [
    "# Colunas e seus respectivos tipos de dados.\n",
    "df.dtypes"
   ]
  },
  {
   "cell_type": "code",
   "execution_count": 5,
   "id": "b5d35c98",
   "metadata": {
    "execution": {
     "iopub.execute_input": "2022-03-01T02:38:34.273279Z",
     "iopub.status.busy": "2022-03-01T02:38:34.272049Z",
     "iopub.status.idle": "2022-03-01T02:38:34.331929Z",
     "shell.execute_reply": "2022-03-01T02:38:34.331114Z",
     "shell.execute_reply.started": "2022-03-01T02:37:56.611527Z"
    },
    "papermill": {
     "duration": 0.107069,
     "end_time": "2022-03-01T02:38:34.332092",
     "exception": false,
     "start_time": "2022-03-01T02:38:34.225023",
     "status": "completed"
    },
    "tags": []
   },
   "outputs": [
    {
     "data": {
      "text/html": [
       "<div>\n",
       "<style scoped>\n",
       "    .dataframe tbody tr th:only-of-type {\n",
       "        vertical-align: middle;\n",
       "    }\n",
       "\n",
       "    .dataframe tbody tr th {\n",
       "        vertical-align: top;\n",
       "    }\n",
       "\n",
       "    .dataframe thead th {\n",
       "        text-align: right;\n",
       "    }\n",
       "</style>\n",
       "<table border=\"1\" class=\"dataframe\">\n",
       "  <thead>\n",
       "    <tr style=\"text-align: right;\">\n",
       "      <th></th>\n",
       "      <th>count</th>\n",
       "      <th>unique</th>\n",
       "      <th>top</th>\n",
       "      <th>freq</th>\n",
       "    </tr>\n",
       "  </thead>\n",
       "  <tbody>\n",
       "    <tr>\n",
       "      <th>sexo</th>\n",
       "      <td>10127</td>\n",
       "      <td>2</td>\n",
       "      <td>F</td>\n",
       "      <td>5358</td>\n",
       "    </tr>\n",
       "    <tr>\n",
       "      <th>escolaridade</th>\n",
       "      <td>8608</td>\n",
       "      <td>5</td>\n",
       "      <td>mestrado</td>\n",
       "      <td>3128</td>\n",
       "    </tr>\n",
       "    <tr>\n",
       "      <th>estado_civil</th>\n",
       "      <td>9378</td>\n",
       "      <td>3</td>\n",
       "      <td>casado</td>\n",
       "      <td>4687</td>\n",
       "    </tr>\n",
       "    <tr>\n",
       "      <th>salario_anual</th>\n",
       "      <td>9015</td>\n",
       "      <td>5</td>\n",
       "      <td>menos que $40K</td>\n",
       "      <td>3561</td>\n",
       "    </tr>\n",
       "    <tr>\n",
       "      <th>tipo_cartao</th>\n",
       "      <td>10127</td>\n",
       "      <td>4</td>\n",
       "      <td>blue</td>\n",
       "      <td>9436</td>\n",
       "    </tr>\n",
       "    <tr>\n",
       "      <th>limite_credito</th>\n",
       "      <td>10127</td>\n",
       "      <td>9272</td>\n",
       "      <td>1.438,21</td>\n",
       "      <td>11</td>\n",
       "    </tr>\n",
       "    <tr>\n",
       "      <th>valor_transacoes_12m</th>\n",
       "      <td>10127</td>\n",
       "      <td>10035</td>\n",
       "      <td>3.851,51</td>\n",
       "      <td>3</td>\n",
       "    </tr>\n",
       "  </tbody>\n",
       "</table>\n",
       "</div>"
      ],
      "text/plain": [
       "                      count unique             top  freq\n",
       "sexo                  10127      2               F  5358\n",
       "escolaridade           8608      5        mestrado  3128\n",
       "estado_civil           9378      3          casado  4687\n",
       "salario_anual          9015      5  menos que $40K  3561\n",
       "tipo_cartao           10127      4            blue  9436\n",
       "limite_credito        10127   9272        1.438,21    11\n",
       "valor_transacoes_12m  10127  10035        3.851,51     3"
      ]
     },
     "execution_count": 5,
     "metadata": {},
     "output_type": "execute_result"
    }
   ],
   "source": [
    "# Atributos categóricos.\n",
    "df.select_dtypes('object').describe().transpose()"
   ]
  },
  {
   "cell_type": "code",
   "execution_count": 6,
   "id": "8a5d2f92",
   "metadata": {
    "execution": {
     "iopub.execute_input": "2022-03-01T02:38:34.425016Z",
     "iopub.status.busy": "2022-03-01T02:38:34.424184Z",
     "iopub.status.idle": "2022-03-01T02:38:34.470688Z",
     "shell.execute_reply": "2022-03-01T02:38:34.471262Z",
     "shell.execute_reply.started": "2022-03-01T02:37:56.675831Z"
    },
    "papermill": {
     "duration": 0.09753,
     "end_time": "2022-03-01T02:38:34.471481",
     "exception": false,
     "start_time": "2022-03-01T02:38:34.373951",
     "status": "completed"
    },
    "tags": []
   },
   "outputs": [
    {
     "data": {
      "text/html": [
       "<div>\n",
       "<style scoped>\n",
       "    .dataframe tbody tr th:only-of-type {\n",
       "        vertical-align: middle;\n",
       "    }\n",
       "\n",
       "    .dataframe tbody tr th {\n",
       "        vertical-align: top;\n",
       "    }\n",
       "\n",
       "    .dataframe thead th {\n",
       "        text-align: right;\n",
       "    }\n",
       "</style>\n",
       "<table border=\"1\" class=\"dataframe\">\n",
       "  <thead>\n",
       "    <tr style=\"text-align: right;\">\n",
       "      <th></th>\n",
       "      <th>count</th>\n",
       "      <th>mean</th>\n",
       "      <th>std</th>\n",
       "      <th>min</th>\n",
       "      <th>25%</th>\n",
       "      <th>50%</th>\n",
       "      <th>75%</th>\n",
       "      <th>max</th>\n",
       "    </tr>\n",
       "  </thead>\n",
       "  <tbody>\n",
       "    <tr>\n",
       "      <th>default</th>\n",
       "      <td>10127.0</td>\n",
       "      <td>0.160660</td>\n",
       "      <td>0.367235</td>\n",
       "      <td>0.0</td>\n",
       "      <td>0.0</td>\n",
       "      <td>0.0</td>\n",
       "      <td>0.0</td>\n",
       "      <td>1.0</td>\n",
       "    </tr>\n",
       "    <tr>\n",
       "      <th>idade</th>\n",
       "      <td>10127.0</td>\n",
       "      <td>46.325960</td>\n",
       "      <td>8.016814</td>\n",
       "      <td>26.0</td>\n",
       "      <td>41.0</td>\n",
       "      <td>46.0</td>\n",
       "      <td>52.0</td>\n",
       "      <td>73.0</td>\n",
       "    </tr>\n",
       "    <tr>\n",
       "      <th>dependentes</th>\n",
       "      <td>10127.0</td>\n",
       "      <td>2.346203</td>\n",
       "      <td>1.298908</td>\n",
       "      <td>0.0</td>\n",
       "      <td>1.0</td>\n",
       "      <td>2.0</td>\n",
       "      <td>3.0</td>\n",
       "      <td>5.0</td>\n",
       "    </tr>\n",
       "    <tr>\n",
       "      <th>meses_de_relacionamento</th>\n",
       "      <td>10127.0</td>\n",
       "      <td>35.928409</td>\n",
       "      <td>7.986416</td>\n",
       "      <td>13.0</td>\n",
       "      <td>31.0</td>\n",
       "      <td>36.0</td>\n",
       "      <td>40.0</td>\n",
       "      <td>56.0</td>\n",
       "    </tr>\n",
       "    <tr>\n",
       "      <th>qtd_produtos</th>\n",
       "      <td>10127.0</td>\n",
       "      <td>3.812580</td>\n",
       "      <td>1.554408</td>\n",
       "      <td>1.0</td>\n",
       "      <td>3.0</td>\n",
       "      <td>4.0</td>\n",
       "      <td>5.0</td>\n",
       "      <td>6.0</td>\n",
       "    </tr>\n",
       "    <tr>\n",
       "      <th>iteracoes_12m</th>\n",
       "      <td>10127.0</td>\n",
       "      <td>2.455317</td>\n",
       "      <td>1.106225</td>\n",
       "      <td>0.0</td>\n",
       "      <td>2.0</td>\n",
       "      <td>2.0</td>\n",
       "      <td>3.0</td>\n",
       "      <td>6.0</td>\n",
       "    </tr>\n",
       "    <tr>\n",
       "      <th>meses_inativo_12m</th>\n",
       "      <td>10127.0</td>\n",
       "      <td>2.341167</td>\n",
       "      <td>1.010622</td>\n",
       "      <td>0.0</td>\n",
       "      <td>2.0</td>\n",
       "      <td>2.0</td>\n",
       "      <td>3.0</td>\n",
       "      <td>6.0</td>\n",
       "    </tr>\n",
       "    <tr>\n",
       "      <th>qtd_transacoes_12m</th>\n",
       "      <td>10127.0</td>\n",
       "      <td>64.858695</td>\n",
       "      <td>23.472570</td>\n",
       "      <td>10.0</td>\n",
       "      <td>45.0</td>\n",
       "      <td>67.0</td>\n",
       "      <td>81.0</td>\n",
       "      <td>139.0</td>\n",
       "    </tr>\n",
       "  </tbody>\n",
       "</table>\n",
       "</div>"
      ],
      "text/plain": [
       "                           count       mean        std   min   25%   50%  \\\n",
       "default                  10127.0   0.160660   0.367235   0.0   0.0   0.0   \n",
       "idade                    10127.0  46.325960   8.016814  26.0  41.0  46.0   \n",
       "dependentes              10127.0   2.346203   1.298908   0.0   1.0   2.0   \n",
       "meses_de_relacionamento  10127.0  35.928409   7.986416  13.0  31.0  36.0   \n",
       "qtd_produtos             10127.0   3.812580   1.554408   1.0   3.0   4.0   \n",
       "iteracoes_12m            10127.0   2.455317   1.106225   0.0   2.0   2.0   \n",
       "meses_inativo_12m        10127.0   2.341167   1.010622   0.0   2.0   2.0   \n",
       "qtd_transacoes_12m       10127.0  64.858695  23.472570  10.0  45.0  67.0   \n",
       "\n",
       "                          75%    max  \n",
       "default                   0.0    1.0  \n",
       "idade                    52.0   73.0  \n",
       "dependentes               3.0    5.0  \n",
       "meses_de_relacionamento  40.0   56.0  \n",
       "qtd_produtos              5.0    6.0  \n",
       "iteracoes_12m             3.0    6.0  \n",
       "meses_inativo_12m         3.0    6.0  \n",
       "qtd_transacoes_12m       81.0  139.0  "
      ]
     },
     "execution_count": 6,
     "metadata": {},
     "output_type": "execute_result"
    }
   ],
   "source": [
    "# Atributos numéricos.\n",
    "df.drop('id', axis=1).select_dtypes('number').describe().transpose()"
   ]
  },
  {
   "cell_type": "code",
   "execution_count": 7,
   "id": "702e577f",
   "metadata": {
    "execution": {
     "iopub.execute_input": "2022-03-01T02:38:34.562054Z",
     "iopub.status.busy": "2022-03-01T02:38:34.561274Z",
     "iopub.status.idle": "2022-03-01T02:38:34.578680Z",
     "shell.execute_reply": "2022-03-01T02:38:34.579255Z",
     "shell.execute_reply.started": "2022-03-01T02:37:56.727382Z"
    },
    "papermill": {
     "duration": 0.063621,
     "end_time": "2022-03-01T02:38:34.579501",
     "exception": false,
     "start_time": "2022-03-01T02:38:34.515880",
     "status": "completed"
    },
    "tags": []
   },
   "outputs": [
    {
     "data": {
      "text/plain": [
       "id                         False\n",
       "default                    False\n",
       "idade                      False\n",
       "sexo                       False\n",
       "dependentes                False\n",
       "escolaridade                True\n",
       "estado_civil                True\n",
       "salario_anual               True\n",
       "tipo_cartao                False\n",
       "meses_de_relacionamento    False\n",
       "qtd_produtos               False\n",
       "iteracoes_12m              False\n",
       "meses_inativo_12m          False\n",
       "limite_credito             False\n",
       "valor_transacoes_12m       False\n",
       "qtd_transacoes_12m         False\n",
       "dtype: bool"
      ]
     },
     "execution_count": 7,
     "metadata": {},
     "output_type": "execute_result"
    }
   ],
   "source": [
    "# Verificando quais colunas possuem dados faltantes (no nosso caso escolaridade, estado_civil, salario_anual).\n",
    "df.isna().any()"
   ]
  },
  {
   "cell_type": "code",
   "execution_count": 8,
   "id": "32870888",
   "metadata": {
    "execution": {
     "iopub.execute_input": "2022-03-01T02:38:34.678697Z",
     "iopub.status.busy": "2022-03-01T02:38:34.677553Z",
     "iopub.status.idle": "2022-03-01T02:38:34.729735Z",
     "shell.execute_reply": "2022-03-01T02:38:34.730451Z",
     "shell.execute_reply.started": "2022-03-01T02:37:56.748505Z"
    },
    "papermill": {
     "duration": 0.107279,
     "end_time": "2022-03-01T02:38:34.730664",
     "exception": false,
     "start_time": "2022-03-01T02:38:34.623385",
     "status": "completed"
    },
    "tags": []
   },
   "outputs": [
    {
     "name": "stdout",
     "output_type": "stream",
     "text": [
      "\u001b[1mDados faltantes base completa:\u001b[0m\n",
      "{'escolaridade': {'quantidade': 1519, 'porcentagem': 15.0}}\n",
      "{'estado_civil': {'quantidade': 749, 'porcentagem': 7.4}}\n",
      "{'salario_anual': {'quantidade': 1112, 'porcentagem': 10.98}}\n",
      "\n",
      "\u001b[1mDados faltantes clientes adimplentes:\u001b[0m\n",
      "{'escolaridade': {'quantidade': 1263, 'porcentagem': 14.86}}\n",
      "{'estado_civil': {'quantidade': 620, 'porcentagem': 7.29}}\n",
      "{'salario_anual': {'quantidade': 925, 'porcentagem': 10.88}}\n",
      "\n",
      "\u001b[1mDados faltantes clientes inadimplentes:\u001b[0m\n",
      "{'escolaridade': {'quantidade': 256, 'porcentagem': 15.73}}\n",
      "{'estado_civil': {'quantidade': 129, 'porcentagem': 7.93}}\n",
      "{'salario_anual': {'quantidade': 187, 'porcentagem': 11.49}}\n"
     ]
    }
   ],
   "source": [
    "# Obtendo estatísticas sobre as colunas dos dados faltantes.\n",
    "def stats_dados_faltantes(df: pd.DataFrame) -> None:\n",
    "\n",
    "    stats_dados_faltantes = []\n",
    "    for col in df.columns:\n",
    "        if df[col].isna().any():\n",
    "            qtd, _ = df[df[col].isna()].shape\n",
    "            total, _ = df.shape\n",
    "            dict_dados_faltantes = {col: {'quantidade': qtd, \"porcentagem\": round(100 * qtd/total, 2)}}\n",
    "            stats_dados_faltantes.append(dict_dados_faltantes)\n",
    "\n",
    "    for stat in stats_dados_faltantes:\n",
    "        print(stat)\n",
    "  \n",
    "print('\\033[1m' + 'Dados faltantes base completa:' + '\\033[0m')\n",
    "stats_dados_faltantes(df=df)\n",
    "\n",
    "print('\\n\\033[1m' + 'Dados faltantes clientes adimplentes:' + '\\033[0m')\n",
    "stats_dados_faltantes(df=df[df['default'] == 0])\n",
    "\n",
    "print('\\n\\033[1m' + 'Dados faltantes clientes inadimplentes:' + '\\033[0m')\n",
    "stats_dados_faltantes(df=df[df['default'] == 1])"
   ]
  },
  {
   "cell_type": "markdown",
   "id": "79c3b14f",
   "metadata": {
    "papermill": {
     "duration": 0.042054,
     "end_time": "2022-03-01T02:38:34.814997",
     "exception": false,
     "start_time": "2022-03-01T02:38:34.772943",
     "status": "completed"
    },
    "tags": []
   },
   "source": [
    "# **5.** **Limpeza e transformação de dados**"
   ]
  },
  {
   "cell_type": "markdown",
   "id": "7cd41c41",
   "metadata": {
    "papermill": {
     "duration": 0.040653,
     "end_time": "2022-03-01T02:38:34.900870",
     "exception": false,
     "start_time": "2022-03-01T02:38:34.860217",
     "status": "completed"
    },
    "tags": []
   },
   "source": [
    "**5.1. Conhecendo melhor a natureza do nosso conjunto de dados, vamos iniciar a transformação e limpeza dos dados para que possam ser melhor analisados.** \n",
    "\n",
    "Em especial, vamos:\n",
    "\n",
    "* Corrigir o schema das nossas colunas;\n",
    "* Remover os dados faltantes."
   ]
  },
  {
   "cell_type": "markdown",
   "id": "0786b847",
   "metadata": {
    "papermill": {
     "duration": 0.042499,
     "end_time": "2022-03-01T02:38:34.985430",
     "exception": false,
     "start_time": "2022-03-01T02:38:34.942931",
     "status": "completed"
    },
    "tags": []
   },
   "source": [
    "**5.2. Correção de schema**\n",
    "\n",
    "Na etapa de exploração, notamos que as colunas **limite_credito** e **valor_transacoes_12m** estavam sendo interpretadas como colunas categóricas do tipo object, ou seja, as colunas estão sendo interpretadas como **string** pelo pandas (como podem ver nos códigos a seguir) e precisamos que elas sejam do tipo **float**."
   ]
  },
  {
   "cell_type": "code",
   "execution_count": 9,
   "id": "b315d63b",
   "metadata": {
    "execution": {
     "iopub.execute_input": "2022-03-01T02:38:35.082131Z",
     "iopub.status.busy": "2022-03-01T02:38:35.080976Z",
     "iopub.status.idle": "2022-03-01T02:38:35.090587Z",
     "shell.execute_reply": "2022-03-01T02:38:35.089906Z",
     "shell.execute_reply.started": "2022-03-01T02:37:56.823387Z"
    },
    "papermill": {
     "duration": 0.060504,
     "end_time": "2022-03-01T02:38:35.090787",
     "exception": false,
     "start_time": "2022-03-01T02:38:35.030283",
     "status": "completed"
    },
    "tags": []
   },
   "outputs": [
    {
     "data": {
      "text/plain": [
       "limite_credito          object\n",
       "valor_transacoes_12m    object\n",
       "dtype: object"
      ]
     },
     "execution_count": 9,
     "metadata": {},
     "output_type": "execute_result"
    }
   ],
   "source": [
    "# Tipo de dados das colunas como string(object).\n",
    "df[['limite_credito', 'valor_transacoes_12m']].dtypes"
   ]
  },
  {
   "cell_type": "code",
   "execution_count": 10,
   "id": "25f64259",
   "metadata": {
    "execution": {
     "iopub.execute_input": "2022-03-01T02:38:35.189115Z",
     "iopub.status.busy": "2022-03-01T02:38:35.186252Z",
     "iopub.status.idle": "2022-03-01T02:38:35.201089Z",
     "shell.execute_reply": "2022-03-01T02:38:35.200326Z",
     "shell.execute_reply.started": "2022-03-01T02:37:56.835230Z"
    },
    "papermill": {
     "duration": 0.07012,
     "end_time": "2022-03-01T02:38:35.201251",
     "exception": false,
     "start_time": "2022-03-01T02:38:35.131131",
     "status": "completed"
    },
    "tags": []
   },
   "outputs": [
    {
     "data": {
      "text/html": [
       "<div>\n",
       "<style scoped>\n",
       "    .dataframe tbody tr th:only-of-type {\n",
       "        vertical-align: middle;\n",
       "    }\n",
       "\n",
       "    .dataframe tbody tr th {\n",
       "        vertical-align: top;\n",
       "    }\n",
       "\n",
       "    .dataframe thead th {\n",
       "        text-align: right;\n",
       "    }\n",
       "</style>\n",
       "<table border=\"1\" class=\"dataframe\">\n",
       "  <thead>\n",
       "    <tr style=\"text-align: right;\">\n",
       "      <th></th>\n",
       "      <th>limite_credito</th>\n",
       "      <th>valor_transacoes_12m</th>\n",
       "    </tr>\n",
       "  </thead>\n",
       "  <tbody>\n",
       "    <tr>\n",
       "      <th>0</th>\n",
       "      <td>12.691,51</td>\n",
       "      <td>1.144,90</td>\n",
       "    </tr>\n",
       "    <tr>\n",
       "      <th>1</th>\n",
       "      <td>8.256,96</td>\n",
       "      <td>1.291,45</td>\n",
       "    </tr>\n",
       "    <tr>\n",
       "      <th>2</th>\n",
       "      <td>3.418,56</td>\n",
       "      <td>1.887,72</td>\n",
       "    </tr>\n",
       "    <tr>\n",
       "      <th>3</th>\n",
       "      <td>3.313,03</td>\n",
       "      <td>1.171,56</td>\n",
       "    </tr>\n",
       "    <tr>\n",
       "      <th>4</th>\n",
       "      <td>4.716,22</td>\n",
       "      <td>816,08</td>\n",
       "    </tr>\n",
       "  </tbody>\n",
       "</table>\n",
       "</div>"
      ],
      "text/plain": [
       "  limite_credito valor_transacoes_12m\n",
       "0      12.691,51             1.144,90\n",
       "1       8.256,96             1.291,45\n",
       "2       3.418,56             1.887,72\n",
       "3       3.313,03             1.171,56\n",
       "4       4.716,22               816,08"
      ]
     },
     "execution_count": 10,
     "metadata": {},
     "output_type": "execute_result"
    }
   ],
   "source": [
    "# Colunas originalmente sendo interpretadas como string(object), logo na sequência converteremos para float.\n",
    "df[['limite_credito', 'valor_transacoes_12m']].head(n=5)"
   ]
  },
  {
   "cell_type": "markdown",
   "id": "8fca2ec9",
   "metadata": {
    "papermill": {
     "duration": 0.049023,
     "end_time": "2022-03-01T02:38:35.306005",
     "exception": false,
     "start_time": "2022-03-01T02:38:35.256982",
     "status": "completed"
    },
    "tags": []
   },
   "source": [
    "**5.3. Agora criamos uma função para converter o tipo de dado string para float:**"
   ]
  },
  {
   "cell_type": "code",
   "execution_count": 11,
   "id": "25b40cf6",
   "metadata": {
    "execution": {
     "iopub.execute_input": "2022-03-01T02:38:35.402202Z",
     "iopub.status.busy": "2022-03-01T02:38:35.401309Z",
     "iopub.status.idle": "2022-03-01T02:38:35.404736Z",
     "shell.execute_reply": "2022-03-01T02:38:35.404017Z",
     "shell.execute_reply.started": "2022-03-01T02:37:56.853315Z"
    },
    "papermill": {
     "duration": 0.053424,
     "end_time": "2022-03-01T02:38:35.404891",
     "exception": false,
     "start_time": "2022-03-01T02:38:35.351467",
     "status": "completed"
    },
    "tags": []
   },
   "outputs": [],
   "source": [
    "def fn_string_to_float(valor: str) -> float:\n",
    "    resposta = float(valor.replace(\".\", \"\").replace(\",\", \".\"))\n",
    "    return resposta"
   ]
  },
  {
   "cell_type": "markdown",
   "id": "d70849c7",
   "metadata": {
    "papermill": {
     "duration": 0.045188,
     "end_time": "2022-03-01T02:38:35.493676",
     "exception": false,
     "start_time": "2022-03-01T02:38:35.448488",
     "status": "completed"
    },
    "tags": []
   },
   "source": [
    "**5.4. Com a função de conversão pronta, basta aplicá-la nas colunas de interesse:**"
   ]
  },
  {
   "cell_type": "code",
   "execution_count": 12,
   "id": "237bd67a",
   "metadata": {
    "execution": {
     "iopub.execute_input": "2022-03-01T02:38:35.589642Z",
     "iopub.status.busy": "2022-03-01T02:38:35.588891Z",
     "iopub.status.idle": "2022-03-01T02:38:35.616574Z",
     "shell.execute_reply": "2022-03-01T02:38:35.615880Z",
     "shell.execute_reply.started": "2022-03-01T02:37:56.861934Z"
    },
    "papermill": {
     "duration": 0.076462,
     "end_time": "2022-03-01T02:38:35.616762",
     "exception": false,
     "start_time": "2022-03-01T02:38:35.540300",
     "status": "completed"
    },
    "tags": []
   },
   "outputs": [],
   "source": [
    "df['valor_transacoes_12m'] = df['valor_transacoes_12m'].apply(fn_string_to_float)\n",
    "df['limite_credito'] = df['limite_credito'].apply(fn_string_to_float)"
   ]
  },
  {
   "cell_type": "markdown",
   "id": "3e664797",
   "metadata": {
    "papermill": {
     "duration": 0.040728,
     "end_time": "2022-03-01T02:38:35.702614",
     "exception": false,
     "start_time": "2022-03-01T02:38:35.661886",
     "status": "completed"
    },
    "tags": []
   },
   "source": [
    "**5.5. Agora com a transformação dos dados aplicada vamos descrever novamente o schema:**"
   ]
  },
  {
   "cell_type": "code",
   "execution_count": 13,
   "id": "02757f9b",
   "metadata": {
    "execution": {
     "iopub.execute_input": "2022-03-01T02:38:35.795631Z",
     "iopub.status.busy": "2022-03-01T02:38:35.794777Z",
     "iopub.status.idle": "2022-03-01T02:38:35.798324Z",
     "shell.execute_reply": "2022-03-01T02:38:35.798831Z",
     "shell.execute_reply.started": "2022-03-01T02:37:56.905375Z"
    },
    "papermill": {
     "duration": 0.052887,
     "end_time": "2022-03-01T02:38:35.799022",
     "exception": false,
     "start_time": "2022-03-01T02:38:35.746135",
     "status": "completed"
    },
    "tags": []
   },
   "outputs": [
    {
     "data": {
      "text/plain": [
       "id                           int64\n",
       "default                      int64\n",
       "idade                        int64\n",
       "sexo                        object\n",
       "dependentes                  int64\n",
       "escolaridade                object\n",
       "estado_civil                object\n",
       "salario_anual               object\n",
       "tipo_cartao                 object\n",
       "meses_de_relacionamento      int64\n",
       "qtd_produtos                 int64\n",
       "iteracoes_12m                int64\n",
       "meses_inativo_12m            int64\n",
       "limite_credito             float64\n",
       "valor_transacoes_12m       float64\n",
       "qtd_transacoes_12m           int64\n",
       "dtype: object"
      ]
     },
     "execution_count": 13,
     "metadata": {},
     "output_type": "execute_result"
    }
   ],
   "source": [
    "# Colunas e seus respectivos tipos de dados já com as colunas \"limite_credito\" e \"valor_transacoes_12m\" convertidas para float.\n",
    "df.dtypes"
   ]
  },
  {
   "cell_type": "code",
   "execution_count": 14,
   "id": "5a68b78b",
   "metadata": {
    "execution": {
     "iopub.execute_input": "2022-03-01T02:38:35.890600Z",
     "iopub.status.busy": "2022-03-01T02:38:35.889279Z",
     "iopub.status.idle": "2022-03-01T02:38:35.928193Z",
     "shell.execute_reply": "2022-03-01T02:38:35.928844Z",
     "shell.execute_reply.started": "2022-03-01T02:37:56.919453Z"
    },
    "papermill": {
     "duration": 0.086489,
     "end_time": "2022-03-01T02:38:35.929031",
     "exception": false,
     "start_time": "2022-03-01T02:38:35.842542",
     "status": "completed"
    },
    "tags": []
   },
   "outputs": [
    {
     "data": {
      "text/html": [
       "<div>\n",
       "<style scoped>\n",
       "    .dataframe tbody tr th:only-of-type {\n",
       "        vertical-align: middle;\n",
       "    }\n",
       "\n",
       "    .dataframe tbody tr th {\n",
       "        vertical-align: top;\n",
       "    }\n",
       "\n",
       "    .dataframe thead th {\n",
       "        text-align: right;\n",
       "    }\n",
       "</style>\n",
       "<table border=\"1\" class=\"dataframe\">\n",
       "  <thead>\n",
       "    <tr style=\"text-align: right;\">\n",
       "      <th></th>\n",
       "      <th>count</th>\n",
       "      <th>unique</th>\n",
       "      <th>top</th>\n",
       "      <th>freq</th>\n",
       "    </tr>\n",
       "  </thead>\n",
       "  <tbody>\n",
       "    <tr>\n",
       "      <th>sexo</th>\n",
       "      <td>10127</td>\n",
       "      <td>2</td>\n",
       "      <td>F</td>\n",
       "      <td>5358</td>\n",
       "    </tr>\n",
       "    <tr>\n",
       "      <th>escolaridade</th>\n",
       "      <td>8608</td>\n",
       "      <td>5</td>\n",
       "      <td>mestrado</td>\n",
       "      <td>3128</td>\n",
       "    </tr>\n",
       "    <tr>\n",
       "      <th>estado_civil</th>\n",
       "      <td>9378</td>\n",
       "      <td>3</td>\n",
       "      <td>casado</td>\n",
       "      <td>4687</td>\n",
       "    </tr>\n",
       "    <tr>\n",
       "      <th>salario_anual</th>\n",
       "      <td>9015</td>\n",
       "      <td>5</td>\n",
       "      <td>menos que $40K</td>\n",
       "      <td>3561</td>\n",
       "    </tr>\n",
       "    <tr>\n",
       "      <th>tipo_cartao</th>\n",
       "      <td>10127</td>\n",
       "      <td>4</td>\n",
       "      <td>blue</td>\n",
       "      <td>9436</td>\n",
       "    </tr>\n",
       "  </tbody>\n",
       "</table>\n",
       "</div>"
      ],
      "text/plain": [
       "               count unique             top  freq\n",
       "sexo           10127      2               F  5358\n",
       "escolaridade    8608      5        mestrado  3128\n",
       "estado_civil    9378      3          casado  4687\n",
       "salario_anual   9015      5  menos que $40K  3561\n",
       "tipo_cartao    10127      4            blue  9436"
      ]
     },
     "execution_count": 14,
     "metadata": {},
     "output_type": "execute_result"
    }
   ],
   "source": [
    "# Atributos categóricos.\n",
    "df.select_dtypes('object').describe().transpose()"
   ]
  },
  {
   "cell_type": "code",
   "execution_count": 15,
   "id": "3901e95c",
   "metadata": {
    "execution": {
     "iopub.execute_input": "2022-03-01T02:38:36.018904Z",
     "iopub.status.busy": "2022-03-01T02:38:36.017833Z",
     "iopub.status.idle": "2022-03-01T02:38:36.070188Z",
     "shell.execute_reply": "2022-03-01T02:38:36.069582Z",
     "shell.execute_reply.started": "2022-03-01T02:37:56.962161Z"
    },
    "papermill": {
     "duration": 0.097434,
     "end_time": "2022-03-01T02:38:36.070373",
     "exception": false,
     "start_time": "2022-03-01T02:38:35.972939",
     "status": "completed"
    },
    "tags": []
   },
   "outputs": [
    {
     "data": {
      "text/html": [
       "<div>\n",
       "<style scoped>\n",
       "    .dataframe tbody tr th:only-of-type {\n",
       "        vertical-align: middle;\n",
       "    }\n",
       "\n",
       "    .dataframe tbody tr th {\n",
       "        vertical-align: top;\n",
       "    }\n",
       "\n",
       "    .dataframe thead th {\n",
       "        text-align: right;\n",
       "    }\n",
       "</style>\n",
       "<table border=\"1\" class=\"dataframe\">\n",
       "  <thead>\n",
       "    <tr style=\"text-align: right;\">\n",
       "      <th></th>\n",
       "      <th>count</th>\n",
       "      <th>mean</th>\n",
       "      <th>std</th>\n",
       "      <th>min</th>\n",
       "      <th>25%</th>\n",
       "      <th>50%</th>\n",
       "      <th>75%</th>\n",
       "      <th>max</th>\n",
       "    </tr>\n",
       "  </thead>\n",
       "  <tbody>\n",
       "    <tr>\n",
       "      <th>default</th>\n",
       "      <td>10127.0</td>\n",
       "      <td>0.160660</td>\n",
       "      <td>0.367235</td>\n",
       "      <td>0.00</td>\n",
       "      <td>0.000</td>\n",
       "      <td>0.00</td>\n",
       "      <td>0.000</td>\n",
       "      <td>1.00</td>\n",
       "    </tr>\n",
       "    <tr>\n",
       "      <th>idade</th>\n",
       "      <td>10127.0</td>\n",
       "      <td>46.325960</td>\n",
       "      <td>8.016814</td>\n",
       "      <td>26.00</td>\n",
       "      <td>41.000</td>\n",
       "      <td>46.00</td>\n",
       "      <td>52.000</td>\n",
       "      <td>73.00</td>\n",
       "    </tr>\n",
       "    <tr>\n",
       "      <th>dependentes</th>\n",
       "      <td>10127.0</td>\n",
       "      <td>2.346203</td>\n",
       "      <td>1.298908</td>\n",
       "      <td>0.00</td>\n",
       "      <td>1.000</td>\n",
       "      <td>2.00</td>\n",
       "      <td>3.000</td>\n",
       "      <td>5.00</td>\n",
       "    </tr>\n",
       "    <tr>\n",
       "      <th>meses_de_relacionamento</th>\n",
       "      <td>10127.0</td>\n",
       "      <td>35.928409</td>\n",
       "      <td>7.986416</td>\n",
       "      <td>13.00</td>\n",
       "      <td>31.000</td>\n",
       "      <td>36.00</td>\n",
       "      <td>40.000</td>\n",
       "      <td>56.00</td>\n",
       "    </tr>\n",
       "    <tr>\n",
       "      <th>qtd_produtos</th>\n",
       "      <td>10127.0</td>\n",
       "      <td>3.812580</td>\n",
       "      <td>1.554408</td>\n",
       "      <td>1.00</td>\n",
       "      <td>3.000</td>\n",
       "      <td>4.00</td>\n",
       "      <td>5.000</td>\n",
       "      <td>6.00</td>\n",
       "    </tr>\n",
       "    <tr>\n",
       "      <th>iteracoes_12m</th>\n",
       "      <td>10127.0</td>\n",
       "      <td>2.455317</td>\n",
       "      <td>1.106225</td>\n",
       "      <td>0.00</td>\n",
       "      <td>2.000</td>\n",
       "      <td>2.00</td>\n",
       "      <td>3.000</td>\n",
       "      <td>6.00</td>\n",
       "    </tr>\n",
       "    <tr>\n",
       "      <th>meses_inativo_12m</th>\n",
       "      <td>10127.0</td>\n",
       "      <td>2.341167</td>\n",
       "      <td>1.010622</td>\n",
       "      <td>0.00</td>\n",
       "      <td>2.000</td>\n",
       "      <td>2.00</td>\n",
       "      <td>3.000</td>\n",
       "      <td>6.00</td>\n",
       "    </tr>\n",
       "    <tr>\n",
       "      <th>limite_credito</th>\n",
       "      <td>10127.0</td>\n",
       "      <td>8632.440165</td>\n",
       "      <td>9088.788041</td>\n",
       "      <td>1438.00</td>\n",
       "      <td>2555.355</td>\n",
       "      <td>4549.42</td>\n",
       "      <td>11068.175</td>\n",
       "      <td>34516.99</td>\n",
       "    </tr>\n",
       "    <tr>\n",
       "      <th>valor_transacoes_12m</th>\n",
       "      <td>10127.0</td>\n",
       "      <td>4404.583047</td>\n",
       "      <td>3397.128078</td>\n",
       "      <td>510.16</td>\n",
       "      <td>2155.825</td>\n",
       "      <td>3899.59</td>\n",
       "      <td>4741.310</td>\n",
       "      <td>18484.93</td>\n",
       "    </tr>\n",
       "    <tr>\n",
       "      <th>qtd_transacoes_12m</th>\n",
       "      <td>10127.0</td>\n",
       "      <td>64.858695</td>\n",
       "      <td>23.472570</td>\n",
       "      <td>10.00</td>\n",
       "      <td>45.000</td>\n",
       "      <td>67.00</td>\n",
       "      <td>81.000</td>\n",
       "      <td>139.00</td>\n",
       "    </tr>\n",
       "  </tbody>\n",
       "</table>\n",
       "</div>"
      ],
      "text/plain": [
       "                           count         mean          std      min       25%  \\\n",
       "default                  10127.0     0.160660     0.367235     0.00     0.000   \n",
       "idade                    10127.0    46.325960     8.016814    26.00    41.000   \n",
       "dependentes              10127.0     2.346203     1.298908     0.00     1.000   \n",
       "meses_de_relacionamento  10127.0    35.928409     7.986416    13.00    31.000   \n",
       "qtd_produtos             10127.0     3.812580     1.554408     1.00     3.000   \n",
       "iteracoes_12m            10127.0     2.455317     1.106225     0.00     2.000   \n",
       "meses_inativo_12m        10127.0     2.341167     1.010622     0.00     2.000   \n",
       "limite_credito           10127.0  8632.440165  9088.788041  1438.00  2555.355   \n",
       "valor_transacoes_12m     10127.0  4404.583047  3397.128078   510.16  2155.825   \n",
       "qtd_transacoes_12m       10127.0    64.858695    23.472570    10.00    45.000   \n",
       "\n",
       "                             50%        75%       max  \n",
       "default                     0.00      0.000      1.00  \n",
       "idade                      46.00     52.000     73.00  \n",
       "dependentes                 2.00      3.000      5.00  \n",
       "meses_de_relacionamento    36.00     40.000     56.00  \n",
       "qtd_produtos                4.00      5.000      6.00  \n",
       "iteracoes_12m               2.00      3.000      6.00  \n",
       "meses_inativo_12m           2.00      3.000      6.00  \n",
       "limite_credito           4549.42  11068.175  34516.99  \n",
       "valor_transacoes_12m     3899.59   4741.310  18484.93  \n",
       "qtd_transacoes_12m         67.00     81.000    139.00  "
      ]
     },
     "execution_count": 15,
     "metadata": {},
     "output_type": "execute_result"
    }
   ],
   "source": [
    "# Atributos numéricos após conversão agora com as colunas \"limite_credito\" e \"valor_transacoes_12m\".\n",
    "df.drop('id', axis=1).select_dtypes('number').describe().transpose()"
   ]
  },
  {
   "cell_type": "markdown",
   "id": "62632867",
   "metadata": {
    "papermill": {
     "duration": 0.042801,
     "end_time": "2022-03-01T02:38:36.159018",
     "exception": false,
     "start_time": "2022-03-01T02:38:36.116217",
     "status": "completed"
    },
    "tags": []
   },
   "source": [
    "**5.6. Agora faremos a remoção de dados faltantes:**"
   ]
  },
  {
   "cell_type": "code",
   "execution_count": 16,
   "id": "afc8b17a",
   "metadata": {
    "execution": {
     "iopub.execute_input": "2022-03-01T02:38:36.254155Z",
     "iopub.status.busy": "2022-03-01T02:38:36.252932Z",
     "iopub.status.idle": "2022-03-01T02:38:36.279302Z",
     "shell.execute_reply": "2022-03-01T02:38:36.280036Z",
     "shell.execute_reply.started": "2022-03-01T02:37:57.018956Z"
    },
    "papermill": {
     "duration": 0.075653,
     "end_time": "2022-03-01T02:38:36.280235",
     "exception": false,
     "start_time": "2022-03-01T02:38:36.204582",
     "status": "completed"
    },
    "tags": []
   },
   "outputs": [
    {
     "name": "stdout",
     "output_type": "stream",
     "text": [
      "\u001b[1mConjunto de dados ANTES a remoção de dados faltantes:\u001b[0m\n",
      "\n",
      " • A proporcão de clientes \u001b[1madimplentes\u001b[0m era de 8500 que correspondia à 83.93% da base de dados.\n",
      " • A proporcão de clientes \u001b[1minadimplentes\u001b[0m era de 1627 que correspondia à 16.07% da base de dados.\n",
      "\n",
      "\u001b[1mConjunto de dados APÓS a remoção de dados faltantes:\u001b[0m\n",
      "\n",
      " • O conjunto de dados após a remoção dos dados faltantes contém 7081 linhas e 16 colunas.\n",
      " • A proporcão de clientes \u001b[1madimplentes\u001b[0m após a remoção dos dados faltantes é de 8500 que corresponde à 84.28% da base de dados.\n",
      " • A proporcão de clientes \u001b[1minadimplentes\u001b[0m após a remoção dos dados faltantes é de 1627 que corresponde à 15.72% da base de dados.\n"
     ]
    }
   ],
   "source": [
    "df.dropna(inplace=True)\n",
    "\n",
    "print('\\033[1m' + 'Conjunto de dados ANTES a remoção de dados faltantes:' + '\\033[0m')\n",
    "print('\\n • A proporcão de clientes', '\\033[1m' + 'adimplentes' + '\\033[0m', f'era de {qtd_adimplentes} que correspondia à {round(100 * qtd_adimplentes / qtd_total, 2)}% da base de dados.')\n",
    "print(' • A proporcão de clientes', '\\033[1m' + 'inadimplentes' + '\\033[0m', f'era de {qtd_inadimplentes} que correspondia à {round(100 * qtd_inadimplentes / qtd_total, 2)}% da base de dados.')\n",
    "\n",
    "print('\\n\\033[1m' + 'Conjunto de dados APÓS a remoção de dados faltantes:' + '\\033[0m')\n",
    "\n",
    "linhas, colunas = df.shape\n",
    "print(f'\\n • O conjunto de dados após a remoção dos dados faltantes contém {linhas} linhas e {colunas} colunas.')\n",
    "\n",
    "qtd_total_novo, _ = df.shape\n",
    "qtd_adimplentes_novo, _ = df[df['default'] == 0].shape\n",
    "qtd_inadimplentes_novo, _ = df[df['default'] == 1].shape\n",
    "\n",
    "print(' • A proporcão de clientes', '\\033[1m' + 'adimplentes' + '\\033[0m', f'após a remoção dos dados faltantes é de {qtd_adimplentes} que corresponde à {round(100 * qtd_adimplentes_novo / qtd_total_novo, 2)}% da base de dados.')\n",
    "print(' • A proporcão de clientes', '\\033[1m' + 'inadimplentes' + '\\033[0m', f'após a remoção dos dados faltantes é de {qtd_inadimplentes} que corresponde à {round(100 * qtd_inadimplentes_novo / qtd_total_novo, 2)}% da base de dados.')"
   ]
  },
  {
   "cell_type": "code",
   "execution_count": 17,
   "id": "bb639ce9",
   "metadata": {
    "execution": {
     "iopub.execute_input": "2022-03-01T02:38:36.379028Z",
     "iopub.status.busy": "2022-03-01T02:38:36.378203Z",
     "iopub.status.idle": "2022-03-01T02:38:36.390600Z",
     "shell.execute_reply": "2022-03-01T02:38:36.389936Z",
     "shell.execute_reply.started": "2022-03-01T02:37:57.050840Z"
    },
    "papermill": {
     "duration": 0.06651,
     "end_time": "2022-03-01T02:38:36.390762",
     "exception": false,
     "start_time": "2022-03-01T02:38:36.324252",
     "status": "completed"
    },
    "tags": []
   },
   "outputs": [
    {
     "data": {
      "text/plain": [
       "id                         False\n",
       "default                    False\n",
       "idade                      False\n",
       "sexo                       False\n",
       "dependentes                False\n",
       "escolaridade               False\n",
       "estado_civil               False\n",
       "salario_anual              False\n",
       "tipo_cartao                False\n",
       "meses_de_relacionamento    False\n",
       "qtd_produtos               False\n",
       "iteracoes_12m              False\n",
       "meses_inativo_12m          False\n",
       "limite_credito             False\n",
       "valor_transacoes_12m       False\n",
       "qtd_transacoes_12m         False\n",
       "dtype: bool"
      ]
     },
     "execution_count": 17,
     "metadata": {},
     "output_type": "execute_result"
    }
   ],
   "source": [
    "# Verificando se os dados faltantes foram removidos com sucesso.\n",
    "df.isna().any()"
   ]
  },
  {
   "cell_type": "markdown",
   "id": "08c77fb3",
   "metadata": {
    "papermill": {
     "duration": 0.044386,
     "end_time": "2022-03-01T02:38:36.481685",
     "exception": false,
     "start_time": "2022-03-01T02:38:36.437299",
     "status": "completed"
    },
    "tags": []
   },
   "source": [
    "# **6. Análise de dados**"
   ]
  },
  {
   "cell_type": "markdown",
   "id": "0c515854",
   "metadata": {
    "papermill": {
     "duration": 0.045687,
     "end_time": "2022-03-01T02:38:36.572816",
     "exception": false,
     "start_time": "2022-03-01T02:38:36.527129",
     "status": "completed"
    },
    "tags": []
   },
   "source": [
    "Com a limpeza e transformação dos dados prontos, vamos criar diversas visualizações para correlacionar variáveis explicativas com a variável resposta para buscar entender qual fator leva um cliente a inadimplência."
   ]
  },
  {
   "cell_type": "markdown",
   "id": "c9f24ba8",
   "metadata": {
    "papermill": {
     "duration": 0.044064,
     "end_time": "2022-03-01T02:38:36.662803",
     "exception": false,
     "start_time": "2022-03-01T02:38:36.618739",
     "status": "completed"
    },
    "tags": []
   },
   "source": [
    "**6.1.** **Visualizações categóricas**\n"
   ]
  },
  {
   "cell_type": "code",
   "execution_count": 18,
   "id": "7b129c8e",
   "metadata": {
    "execution": {
     "iopub.execute_input": "2022-03-01T02:38:36.759975Z",
     "iopub.status.busy": "2022-03-01T02:38:36.758758Z",
     "iopub.status.idle": "2022-03-01T02:38:36.765304Z",
     "shell.execute_reply": "2022-03-01T02:38:36.765878Z",
     "shell.execute_reply.started": "2022-03-01T02:37:57.067346Z"
    },
    "papermill": {
     "duration": 0.056056,
     "end_time": "2022-03-01T02:38:36.766087",
     "exception": false,
     "start_time": "2022-03-01T02:38:36.710031",
     "status": "completed"
    },
    "tags": []
   },
   "outputs": [],
   "source": [
    "sns.set_style(\"whitegrid\")\n",
    "\n",
    "df_adimplente = df[df['default'] == 0]\n",
    "df_inadimplente = df[df['default'] == 1]"
   ]
  },
  {
   "cell_type": "code",
   "execution_count": 19,
   "id": "e9e514a3",
   "metadata": {
    "execution": {
     "iopub.execute_input": "2022-03-01T02:38:36.867794Z",
     "iopub.status.busy": "2022-03-01T02:38:36.867058Z",
     "iopub.status.idle": "2022-03-01T02:38:36.869891Z",
     "shell.execute_reply": "2022-03-01T02:38:36.869359Z",
     "shell.execute_reply.started": "2022-03-01T02:37:57.087116Z"
    },
    "papermill": {
     "duration": 0.059839,
     "end_time": "2022-03-01T02:38:36.870042",
     "exception": false,
     "start_time": "2022-03-01T02:38:36.810203",
     "status": "completed"
    },
    "tags": []
   },
   "outputs": [],
   "source": [
    "def categorica_graficos (coluna: str, titulos: list) -> None:\n",
    "\n",
    "    eixo = 0\n",
    "    max_y = 0\n",
    "    max = df.select_dtypes('object').describe()[coluna]['freq'] * 1.1\n",
    "\n",
    "    figura, eixos = plt.subplots(1,3, figsize=(20, 5), sharex=True)\n",
    "\n",
    "    for dataframe in [df, df_adimplente, df_inadimplente]:\n",
    "\n",
    "        df_to_plot = dataframe[coluna].value_counts().to_frame()\n",
    "        df_to_plot.rename(columns={coluna: 'frequencia_absoluta'}, inplace=True)\n",
    "        df_to_plot[coluna] = df_to_plot.index\n",
    "        df_to_plot.sort_values(by=[coluna], inplace=True)\n",
    "        df_to_plot.sort_values(by=[coluna])\n",
    "\n",
    "        f = sns.barplot(x=df_to_plot[coluna], y=df_to_plot['frequencia_absoluta'], ax=eixos[eixo])\n",
    "        f.set(title=titulos[eixo], xlabel=coluna.capitalize(), ylabel='Frequência Absoluta')\n",
    "        f.set_xticklabels(labels=f.get_xticklabels(), rotation=90)\n",
    "\n",
    "        _, max_y_f = f.get_ylim()\n",
    "        max_y = max_y_f if max_y_f > max_y else max_y\n",
    "        f.set(ylim=(0, max_y))\n",
    "\n",
    "        eixo += 1\n",
    "\n",
    "    return figura"
   ]
  },
  {
   "cell_type": "code",
   "execution_count": 20,
   "id": "ab5df1e2",
   "metadata": {
    "execution": {
     "iopub.execute_input": "2022-03-01T02:38:36.967190Z",
     "iopub.status.busy": "2022-03-01T02:38:36.966548Z",
     "iopub.status.idle": "2022-03-01T02:38:38.857601Z",
     "shell.execute_reply": "2022-03-01T02:38:38.858143Z",
     "shell.execute_reply.started": "2022-03-01T02:37:57.104414Z"
    },
    "papermill": {
     "duration": 1.941153,
     "end_time": "2022-03-01T02:38:38.858349",
     "exception": false,
     "start_time": "2022-03-01T02:38:36.917196",
     "status": "completed"
    },
    "tags": []
   },
   "outputs": [
    {
     "data": {
      "image/png": "[encoded data removed]",
      "text/plain": [
       "<Figure size 1440x360 with 3 Axes>"
      ]
     },
     "metadata": {},
     "output_type": "display_data"
    },
    {
     "data": {
      "image/png": "[encoded data removed]",
      "text/plain": [
       "<Figure size 1440x360 with 3 Axes>"
      ]
     },
     "metadata": {},
     "output_type": "display_data"
    },
    {
     "data": {
      "image/png": "[encoded data removed]",
      "text/plain": [
       "<Figure size 1440x360 with 3 Axes>"
      ]
     },
     "metadata": {},
     "output_type": "display_data"
    }
   ],
   "source": [
    "colunas = ['escolaridade', 'salario_anual', 'estado_civil']\n",
    "titulos = ['Total dos Clientes', 'Clientes Adimplentes', 'Clientes Inadimplentes']\n",
    "\n",
    "figura = plt\n",
    "\n",
    "for coluna in colunas:\n",
    "    figura.show(categorica_graficos(coluna, titulos))"
   ]
  },
  {
   "cell_type": "markdown",
   "id": "048d1bc4",
   "metadata": {
    "papermill": {
     "duration": 0.048988,
     "end_time": "2022-03-01T02:38:38.955733",
     "exception": false,
     "start_time": "2022-03-01T02:38:38.906745",
     "status": "completed"
    },
    "tags": []
   },
   "source": [
    "**6.2.** **Visualizações numéricas**\n",
    "\n",
    "Nesta seção, vamos visualizar a relação entre a variável resposta **default** com os atributos numéricos."
   ]
  },
  {
   "cell_type": "code",
   "execution_count": 21,
   "id": "8b6d0600",
   "metadata": {
    "execution": {
     "iopub.execute_input": "2022-03-01T02:38:39.058643Z",
     "iopub.status.busy": "2022-03-01T02:38:39.057609Z",
     "iopub.status.idle": "2022-03-01T02:38:39.066406Z",
     "shell.execute_reply": "2022-03-01T02:38:39.066975Z",
     "shell.execute_reply.started": "2022-03-01T02:37:59.025325Z"
    },
    "papermill": {
     "duration": 0.062402,
     "end_time": "2022-03-01T02:38:39.067166",
     "exception": false,
     "start_time": "2022-03-01T02:38:39.004764",
     "status": "completed"
    },
    "tags": []
   },
   "outputs": [],
   "source": [
    "def numerica_graficos (coluna: str, titulos: list) -> None:\n",
    "\n",
    "    eixo = 0\n",
    "    max_y = 0\n",
    "    figura, eixos = plt.subplots(1,3, figsize=(20, 5), sharex=True)\n",
    "\n",
    "    for dataframe in [df, df_adimplente, df_inadimplente]:\n",
    "\n",
    "        f = sns.histplot(x=coluna, data=dataframe, stat='count', ax=eixos[eixo])\n",
    "        f.set(title=titulos[eixo], xlabel=coluna.capitalize(), ylabel='Frequência Absoluta')\n",
    "\n",
    "        _, max_y_f = f.get_ylim()\n",
    "        max_y = max_y_f if max_y_f > max_y else max_y\n",
    "        f.set(ylim=(0, max_y))\n",
    "\n",
    "        eixo += 1\n",
    "\n",
    "    return figura"
   ]
  },
  {
   "cell_type": "code",
   "execution_count": 22,
   "id": "5d5be337",
   "metadata": {
    "execution": {
     "iopub.execute_input": "2022-03-01T02:38:39.171773Z",
     "iopub.status.busy": "2022-03-01T02:38:39.170642Z",
     "iopub.status.idle": "2022-03-01T02:38:41.109957Z",
     "shell.execute_reply": "2022-03-01T02:38:41.110450Z",
     "shell.execute_reply.started": "2022-03-01T02:37:59.036693Z"
    },
    "papermill": {
     "duration": 1.99408,
     "end_time": "2022-03-01T02:38:41.110636",
     "exception": false,
     "start_time": "2022-03-01T02:38:39.116556",
     "status": "completed"
    },
    "tags": []
   },
   "outputs": [
    {
     "data": {
      "image/png": "[encoded data removed]",
      "text/plain": [
       "<Figure size 1440x360 with 3 Axes>"
      ]
     },
     "metadata": {},
     "output_type": "display_data"
    },
    {
     "data": {
      "image/png": "[encoded data removed]",
      "text/plain": [
       "<Figure size 1440x360 with 3 Axes>"
      ]
     },
     "metadata": {},
     "output_type": "display_data"
    }
   ],
   "source": [
    "colunas = ['qtd_transacoes_12m', 'valor_transacoes_12m']\n",
    "titulos = ['Qtd. de Transações no Último Ano', 'Qtd. de Transações no Último Ano de Adimplentes', 'Qtd. de Transações no Último Ano de Inadimplentes']\n",
    "\n",
    "for coluna in colunas:\n",
    "    figura.show(numerica_graficos(coluna, titulos))"
   ]
  },
  {
   "cell_type": "markdown",
   "id": "5b81d4ee",
   "metadata": {
    "papermill": {
     "duration": 0.053247,
     "end_time": "2022-03-01T02:38:41.217746",
     "exception": false,
     "start_time": "2022-03-01T02:38:41.164499",
     "status": "completed"
    },
    "tags": []
   },
   "source": [
    "**6.3.** **Com base no resultado dos histogramas acima das duas variáveis estudadas temos abaixo a relação entre ambas no gráfico de relacionamento.**"
   ]
  },
  {
   "cell_type": "code",
   "execution_count": 23,
   "id": "2b06804d",
   "metadata": {
    "_kg_hide-input": true,
    "_kg_hide-output": true,
    "execution": {
     "iopub.execute_input": "2022-03-01T02:38:41.325049Z",
     "iopub.status.busy": "2022-03-01T02:38:41.323968Z",
     "iopub.status.idle": "2022-03-01T02:38:42.651020Z",
     "shell.execute_reply": "2022-03-01T02:38:42.651556Z",
     "shell.execute_reply.started": "2022-03-01T02:38:00.984436Z"
    },
    "papermill": {
     "duration": 1.382489,
     "end_time": "2022-03-01T02:38:42.651748",
     "exception": false,
     "start_time": "2022-03-01T02:38:41.269259",
     "status": "completed"
    },
    "tags": []
   },
   "outputs": [
    {
     "data": {
      "image/png": "[encoded data removed]",
      "text/plain": [
       "<Figure size 403.375x360 with 1 Axes>"
      ]
     },
     "metadata": {},
     "output_type": "display_data"
    }
   ],
   "source": [
    "f = sns.relplot(x='valor_transacoes_12m', y='qtd_transacoes_12m', data=df, hue='default')\n",
    "_ = f.set(\n",
    "    title='Relação entre Valor e Quantidade de Transações no Último Ano\\n', \n",
    "    xlabel='Valor das Transações no Último Ano', \n",
    "    ylabel='Quantidade das Transações no Último Ano'\n",
    "  )"
   ]
  },
  {
   "cell_type": "markdown",
   "id": "04cc4ad9",
   "metadata": {
    "papermill": {
     "duration": 0.054151,
     "end_time": "2022-03-01T02:38:42.760976",
     "exception": false,
     "start_time": "2022-03-01T02:38:42.706825",
     "status": "completed"
    },
    "tags": []
   },
   "source": [
    "# **7. Resumo dos insights gerados**"
   ]
  },
  {
   "cell_type": "markdown",
   "id": "032e3003",
   "metadata": {
    "papermill": {
     "duration": 0.056559,
     "end_time": "2022-03-01T02:38:42.872145",
     "exception": false,
     "start_time": "2022-03-01T02:38:42.815586",
     "status": "completed"
    },
    "tags": []
   },
   "source": [
    "**7.1. Com base na análise categórica:**\n",
    "\n",
    "A análise gráfica dos dados com base nas categorias **escolaridade**, **estado civil** e **salario anual** não explicam maior ou menor índice de inandimplência. \n",
    "As proporções entre default e não default com relação ao total de dados se mantém praticamente iguais. Ou seja, não sinalizam nenhuma distorção que explique a inadimplência.\n",
    " \n",
    "\n",
    "**7.2. Com base na análise numérica:**\n",
    "\n",
    "Já com a análise gráfica das variáveis **quantidade de transações em 12 meses ('qtd_transacoes_12m')** e **valor das transações em 12 meses ('valor_transacoes_12m')** é possível perceber que existe algo irregular ou fora do comum para uma faixa específica de valor de transações e quantidade de transações.\n",
    " \n",
    "**Conclusões:**\n",
    "\n",
    "O percentual de dados vazios que foram descartados da amostra não comprometeram a validade da base de dados.\n",
    "\n",
    "Existe um forte incremento de clientes inadimplentes na faixa entre 35 e 45 transações anuais e na faixa média de valor de transações em R$ 2.500,00.\n",
    "\n",
    "Quando sobrepomos as duas amostras no gráfico de relacionamento fica ainda mais visível a existência de uma relação entre o número de transações na faixa 35-45 com os valores médios de R$ 2.500,00, indicando uma atenção especial para esse grupo de clientes."
   ]
  }
 ],
 "metadata": {
  "kernelspec": {
   "display_name": "Python 3",
   "language": "python",
   "name": "python3"
  },
  "language_info": {
   "codemirror_mode": {
    "name": "ipython",
    "version": 3
   },
   "file_extension": ".py",
   "mimetype": "text/x-python",
   "name": "python",
   "nbconvert_exporter": "python",
   "pygments_lexer": "ipython3",
   "version": "3.7.12"
  },
  "papermill": {
   "default_parameters": {},
   "duration": 24.099975,
   "end_time": "2022-03-01T02:38:43.744317",
   "environment_variables": {},
   "exception": null,
   "input_path": "__notebook__.ipynb",
   "output_path": "__notebook__.ipynb",
   "parameters": {},
   "start_time": "2022-03-01T02:38:19.644342",
   "version": "2.3.3"
  }
 },
 "nbformat": 4,
 "nbformat_minor": 5
}
